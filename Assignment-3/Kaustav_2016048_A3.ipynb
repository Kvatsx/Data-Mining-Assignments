{
 "cells": [
  {
   "cell_type": "markdown",
   "metadata": {},
   "source": [
    "### Kaustav Vats (2016048)"
   ]
  },
  {
   "cell_type": "code",
   "execution_count": 1,
   "metadata": {},
   "outputs": [],
   "source": [
    "import numpy as np\n",
    "import sys\n",
    "import copy"
   ]
  },
  {
   "cell_type": "code",
   "execution_count": 13,
   "metadata": {},
   "outputs": [],
   "source": [
    "def LoadData(filename):\n",
    "    d = []\n",
    "    f = open(\"Data/\" + filename, 'r')\n",
    "    for line in f:\n",
    "        if line == \"\":\n",
    "            break\n",
    "        d.append(list(map(int, line.split(\"\\n\")[0].split())))\n",
    "    return d\n",
    "\n",
    "def GetMax(data):\n",
    "    maxi = -1\n",
    "    mini = sys.maxsize\n",
    "    for t in data:\n",
    "        maxi2 = max(t)\n",
    "        mini2 = min(t)\n",
    "        if maxi2 > maxi:\n",
    "            maxi = maxi2\n",
    "        if mini2 < mini:\n",
    "            mini = mini2\n",
    "    return maxi, mini\n",
    "\n",
    "def GetSupport(N, data, mini, maxi):\n",
    "    s = {}\n",
    "    for i in range(N):\n",
    "        for j in range(len(data[i])):\n",
    "            if data[i][j] in s:\n",
    "                s[data[i][j]] += 1\n",
    "            else:\n",
    "                s[data[i][j]] = 1\n",
    "    for k in s:\n",
    "        s[k] = s[k]/N\n",
    "    return s\n",
    "\n",
    "def GetC1(s, min_supp):\n",
    "    c1 = copy.deepcopy(s)\n",
    "    for k in s:\n",
    "        if c1[k] < min_supp:\n",
    "            del c1[k]\n",
    "    return c1\n",
    "\n",
    "def SortDictionary(dic):\n",
    "    ndic = {}\n",
    "    l = sorted(dic.items(), key=lambda kv: kv[1])\n",
    "    for e in l:\n",
    "        ndic[e[0]] = e[1]\n",
    "    return ndic"
   ]
  },
  {
   "cell_type": "code",
   "execution_count": 9,
   "metadata": {},
   "outputs": [],
   "source": [
    "Data = LoadData(\"retail.dat\")\n",
    "N = len(Data)\n",
    "min_supp = 0.01"
   ]
  },
  {
   "cell_type": "code",
   "execution_count": 10,
   "metadata": {},
   "outputs": [],
   "source": [
    "MaxEl, MinEl = GetMax(Data)\n",
    "S = GetSupport(N, Data, MinEl, MaxEl)"
   ]
  },
  {
   "cell_type": "code",
   "execution_count": 14,
   "metadata": {
    "scrolled": false
   },
   "outputs": [
    {
     "name": "stdout",
     "output_type": "stream",
     "text": [
      "{10515: 0.010004310247045213, 264: 0.010151766067012999, 2958: 0.010253850865452236, 45: 0.010333250153127197, 242: 0.010333250153127197, 956: 0.010333250153127197, 31: 0.010435334951566434, 479: 0.010503391483859259, 3270: 0.010775617613030558, 783: 0.010945758943762618, 175: 0.011002472720673307, 522: 0.011047843742201855, 258: 0.011195299562169643, 179: 0.011320069871373154, 19: 0.011399469159048116, 161: 0.011456182935958802, 117: 0.011637667022073002, 13041: 0.011921235906626438, 78: 0.012023320705065675, 37: 0.012182119280415599, 1004: 0.012499716431115446, 677: 0.012590458474172546, 589: 0.012692543272611783, 49: 0.01270388602799392, 201: 0.012851341847961707, 548: 0.012896712869490257, 15832: 0.012964769401783082, 249: 0.013157596243279418, 1393: 0.013168938998661554, 16217: 0.013225652775572243, 740: 0.013395794106304303, 286: 0.013418479617068579, 301: 0.013656677480093464, 604: 0.01371339125700415, 824: 0.013724734012386289, 592: 0.013917560853882625, 338: 0.014450670356843085, 14098: 0.014643497198339421, 123: 0.014768267507542933, 16010: 0.014927066082892857, 9: 0.015562260384292552, 185: 0.015607631405821103, 1146: 0.016174769174927973, 12925: 0.016639822145595607, 255: 0.01671922143327057, 533: 0.016866677253238357, 60: 0.01688936276400263, 79: 0.018148408611419885, 2238: 0.01945282548036569, 270: 0.019668337832626302, 147: 0.020178761824822485, 1327: 0.02025816111249745, 438: 0.02113155327692203, 413: 0.021324380118418366, 271: 0.023751729770195774, 475: 0.024579750913091808, 101: 0.02537374378984143, 310: 0.02942310746126449, 110: 0.03169165853769198, 36: 0.033302329801955494, 237: 0.03439123431864068, 170: 0.03515119892924389, 225: 0.03694335427962161, 89: 0.04352215240126132, 65: 0.05072480206891858, 41: 0.16951747918604387, 32: 0.1720355708808784, 38: 0.17690161293981535, 48: 0.47792699802636057, 39: 0.5747941289898142}\n"
     ]
    }
   ],
   "source": [
    "C1 = GetC1(S, min_supp)\n",
    "C1 = SortDictionary(C1)\n",
    "print(C1)"
   ]
  },
  {
   "cell_type": "code",
   "execution_count": null,
   "metadata": {},
   "outputs": [],
   "source": []
  }
 ],
 "metadata": {
  "kernelspec": {
   "display_name": "Python 3",
   "language": "python",
   "name": "python3"
  },
  "language_info": {
   "codemirror_mode": {
    "name": "ipython",
    "version": 3
   },
   "file_extension": ".py",
   "mimetype": "text/x-python",
   "name": "python",
   "nbconvert_exporter": "python",
   "pygments_lexer": "ipython3",
   "version": "3.7.3"
  }
 },
 "nbformat": 4,
 "nbformat_minor": 2
}
