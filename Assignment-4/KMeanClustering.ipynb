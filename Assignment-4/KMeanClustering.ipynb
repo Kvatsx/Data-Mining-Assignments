{
 "cells": [
  {
   "cell_type": "markdown",
   "metadata": {},
   "source": [
    "### Kaustav Vats (2016048)\n",
    "### Topic- K-Mean Clustering"
   ]
  },
  {
   "cell_type": "code",
   "execution_count": 147,
   "metadata": {},
   "outputs": [],
   "source": [
    "import numpy as np\n",
    "# from math import sqrt\n",
    "from copy import deepcopy\n",
    "from tqdm import tqdm_notebook as tqdm"
   ]
  },
  {
   "cell_type": "code",
   "execution_count": 171,
   "metadata": {},
   "outputs": [],
   "source": [
    "class Point:\n",
    "    def __init__(self, name, point_class):\n",
    "        self.Name = name\n",
    "        self.c = point_class\n",
    "#         self.v = value\n",
    "        \n",
    "    def __str__(self):\n",
    "        return self.c + \" \" + self.Name\n",
    "    \n",
    "    def getName(self):\n",
    "        return self.Name\n",
    "    def getClass(self):\n",
    "        return self.c\n",
    "    \n",
    "def load_data(filename, point_class):\n",
    "    data = []\n",
    "    file = open(filename, 'r')\n",
    "    for line in file:\n",
    "        line = line.strip().split(\" \")\n",
    "        val = list(map(float, line[1:]))\n",
    "        data.append((line[0], point_class, np.asarray(val)))\n",
    "    return data\n",
    "\n",
    "def pre_process(data):\n",
    "    X = np.zeros((len(data), data[0][2].shape[0]))\n",
    "    Y = []\n",
    "    for i in range(len(data)):\n",
    "        X[i, :] = data[i][2][:]\n",
    "        Y.append(Point(data[i][0], data[i][1]))\n",
    "    return X, Y\n",
    "\n",
    "def getEuclideanDistance(center, x):\n",
    "    t = center - x\n",
    "    t = np.square(t)\n",
    "    t = np.sum(t, axis=1)\n",
    "    t = np.sqrt(t)\n",
    "    return t\n",
    "\n",
    "def UpdateMean(k, label, x):\n",
    "    centers = []\n",
    "#     print(label)\n",
    "    for i in range(k):\n",
    "        centers.append([])\n",
    "    \n",
    "    for i in range(label.shape[0]):\n",
    "        centers[label[i]].append(x[i, :])\n",
    "    \n",
    "    for i in range(k):\n",
    "        if len(centers[i]) > 0:\n",
    "            centers[i] = np.vstack(tuple(centers[i]))\n",
    "            centers[i] = np.mean(centers[i], axis=0)\n",
    "#             print(centers[i].shape)\n",
    "        else:\n",
    "            centers[i] = np.zeros((1, x.shape[1]))\n",
    "    return centers\n",
    "\n",
    "def KMean(K, X, mini=-3.3685, maxi=1.9523, max_iter=1000):\n",
    "    Label = np.zeros(X.shape[0])\n",
    "    Label.fill(-1)\n",
    "    Prev = Label\n",
    "    Centroids = []\n",
    "    for i in range(K):\n",
    "        Centroids.append(np.random.uniform(low=mini, high=maxi, size=(1, X.shape[1])))\n",
    "    \n",
    "    # Stopping Conditions\n",
    "    for i in tqdm(range(max_iter)):\n",
    "        D = np.zeros((K, X.shape[0]))\n",
    "        for c in range(K):\n",
    "            D[c, :] = getEuclideanDistance(Centroids[c], X)\n",
    "        Label = np.argmin(D, axis=0)\n",
    "        Centroids = UpdateMean(K, Label, X)\n",
    "        if np.array_equal(Label, Prev):\n",
    "            break\n",
    "        Prev = Label\n",
    "    return Label"
   ]
  },
  {
   "cell_type": "code",
   "execution_count": 172,
   "metadata": {
    "scrolled": true
   },
   "outputs": [
    {
     "name": "stdout",
     "output_type": "stream",
     "text": [
      "Data Points: 329\n",
      "Vector Length: (300,)\n"
     ]
    }
   ],
   "source": [
    "Classes = ['animals', 'countries', 'fruits', 'veggies']\n",
    "dataPath = 'clustering-data/'\n",
    "Data = []\n",
    "for i in range(len(Classes)):\n",
    "    Data += load_data(dataPath+Classes[i], Classes[i])\n",
    "print(\"Data Points: {}\".format(len(Data)))\n",
    "print(\"Vector Length: {}\".format(Data[0][2].shape))"
   ]
  },
  {
   "cell_type": "code",
   "execution_count": 173,
   "metadata": {},
   "outputs": [
    {
     "name": "stdout",
     "output_type": "stream",
     "text": [
      "(329, 300)\n",
      "Min Val: -3.3685, Max Val: 1.9523\n"
     ]
    }
   ],
   "source": [
    "X, Y = pre_process(Data)\n",
    "print(X.shape)\n",
    "print(\"Min Val: {}, Max Val: {}\".format(np.amin(X), np.amax(X)))"
   ]
  },
  {
   "cell_type": "code",
   "execution_count": 174,
   "metadata": {
    "scrolled": true
   },
   "outputs": [
    {
     "data": {
      "application/vnd.jupyter.widget-view+json": {
       "model_id": "9989911d5ef14b0d9ce399f7d27fee95",
       "version_major": 2,
       "version_minor": 0
      },
      "text/plain": [
       "HBox(children=(IntProgress(value=0, max=10000), HTML(value='')))"
      ]
     },
     "metadata": {},
     "output_type": "display_data"
    },
    {
     "data": {
      "text/plain": [
       "array([2, 2, 2, 2, 1, 2, 2, 2, 2, 2, 2, 2, 2, 2, 2, 2, 2, 2, 2, 2, 2, 2,\n",
       "       2, 2, 2, 2, 1, 2, 2, 2, 2, 2, 2, 2, 2, 2, 2, 2, 2, 2, 2, 2, 2, 2,\n",
       "       2, 2, 2, 2, 2, 2, 3, 3, 3, 3, 3, 3, 3, 3, 3, 3, 3, 3, 3, 3, 3, 3,\n",
       "       3, 3, 3, 3, 3, 3, 3, 3, 3, 3, 3, 3, 3, 3, 3, 3, 3, 3, 3, 3, 3, 3,\n",
       "       1, 3, 3, 3, 3, 3, 3, 3, 3, 3, 3, 3, 3, 3, 3, 3, 3, 3, 3, 3, 3, 3,\n",
       "       3, 3, 3, 3, 3, 3, 3, 3, 3, 3, 3, 3, 3, 3, 3, 3, 3, 3, 3, 3, 3, 3,\n",
       "       3, 3, 3, 3, 3, 3, 3, 3, 3, 3, 3, 3, 3, 3, 3, 3, 3, 3, 3, 3, 3, 3,\n",
       "       3, 3, 3, 3, 3, 3, 3, 3, 3, 3, 3, 3, 3, 3, 3, 3, 3, 3, 3, 3, 3, 3,\n",
       "       3, 3, 3, 3, 3, 3, 3, 3, 3, 3, 3, 3, 3, 3, 3, 3, 3, 3, 3, 3, 3, 3,\n",
       "       3, 3, 3, 3, 3, 3, 3, 3, 3, 3, 3, 3, 3, 0, 0, 0, 0, 1, 1, 1, 0, 1,\n",
       "       1, 0, 1, 1, 0, 0, 0, 1, 1, 1, 1, 1, 0, 1, 0, 0, 0, 1, 1, 1, 1, 1,\n",
       "       1, 1, 1, 1, 1, 0, 0, 1, 1, 1, 0, 1, 1, 0, 0, 1, 0, 1, 1, 1, 0, 0,\n",
       "       1, 1, 1, 0, 0, 0, 1, 0, 0, 0, 0, 0, 0, 0, 0, 0, 0, 0, 0, 1, 1, 0,\n",
       "       0, 0, 0, 0, 0, 0, 0, 0, 0, 0, 0, 0, 0, 0, 0, 0, 0, 0, 0, 0, 1, 0,\n",
       "       0, 0, 0, 0, 0, 0, 0, 0, 0, 0, 0, 0, 0, 0, 0, 1, 0, 0, 1, 1, 0],\n",
       "      dtype=int64)"
      ]
     },
     "execution_count": 174,
     "metadata": {},
     "output_type": "execute_result"
    }
   ],
   "source": [
    "KMean(4, X, max_iter=10000)"
   ]
  },
  {
   "cell_type": "code",
   "execution_count": null,
   "metadata": {},
   "outputs": [],
   "source": []
  },
  {
   "cell_type": "code",
   "execution_count": null,
   "metadata": {},
   "outputs": [],
   "source": []
  }
 ],
 "metadata": {
  "kernelspec": {
   "display_name": "Python 3",
   "language": "python",
   "name": "python3"
  },
  "language_info": {
   "codemirror_mode": {
    "name": "ipython",
    "version": 3
   },
   "file_extension": ".py",
   "mimetype": "text/x-python",
   "name": "python",
   "nbconvert_exporter": "python",
   "pygments_lexer": "ipython3",
   "version": "3.7.3"
  }
 },
 "nbformat": 4,
 "nbformat_minor": 2
}
