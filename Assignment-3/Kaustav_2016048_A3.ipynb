{
 "cells": [
  {
   "cell_type": "markdown",
   "metadata": {},
   "source": [
    "### Kaustav Vats (2016048)"
   ]
  },
  {
   "cell_type": "code",
   "execution_count": 12,
   "metadata": {},
   "outputs": [],
   "source": [
    "import numpy as np\n",
    "import sys\n",
    "import copy\n",
    "from apyori import create_next_candidates, TransactionManager\n",
    "from itertools import combinations\n",
    "from tqdm import tqdm_notebook as tqdm\n",
    "import time\n",
    "import matplotlib.pyplot as plt\n",
    "%matplotlib inline \n",
    "# https://github.com/ymoch/apyori/blob/master/apyori.py\n",
    "# https://www.geeksforgeeks.org/itertools-combinations-module-python-print-possible-combinations/"
   ]
  },
  {
   "cell_type": "code",
   "execution_count": 3,
   "metadata": {},
   "outputs": [],
   "source": [
    "def LoadData(filename):\n",
    "    d = []\n",
    "    f = open(\"Data/\" + filename, 'r')\n",
    "    for line in f:\n",
    "        if line == \"\":\n",
    "            break\n",
    "        d.append(list(map(int, line.split(\"\\n\")[0].split())))\n",
    "    return d\n",
    "\n",
    "def GetMax(data):\n",
    "    maxi = -1\n",
    "    mini = sys.maxsize\n",
    "    for t in data:\n",
    "        maxi2 = max(t)\n",
    "        mini2 = min(t)\n",
    "        if maxi2 > maxi:\n",
    "            maxi = maxi2\n",
    "        if mini2 < mini:\n",
    "            mini = mini2\n",
    "    return maxi, mini\n",
    "\n",
    "def GetSupport(N, data, mini, maxi):\n",
    "    s = {}\n",
    "    for i in range(N):\n",
    "        for j in range(len(data[i])):\n",
    "            if data[i][j] in s:\n",
    "                s[data[i][j]] += 1\n",
    "            else:\n",
    "                s[data[i][j]] = 1\n",
    "    for k in s:\n",
    "        s[k] = s[k]/N\n",
    "    return s\n",
    "\n",
    "def GetC1(s, min_supp):\n",
    "    c1 = copy.deepcopy(s)\n",
    "    for k in s:\n",
    "        if c1[k] < min_supp:\n",
    "            del c1[k]\n",
    "    return c1\n",
    "\n",
    "def SortDictionary(dic):\n",
    "    ndic = {}\n",
    "    l = sorted(dic.items(), key=lambda kv: kv[1])\n",
    "    for e in l:\n",
    "        ndic[e[0]] = e[1]\n",
    "    return ndic\n",
    "\n",
    "def calc_hconf(item_set, items_support, support):\n",
    "    Arr = []\n",
    "    for item in item_set:\n",
    "        Arr.append(items_support[item])\n",
    "    return support/max(Arr)\n",
    "\n",
    "def HyperCliqueAlgo():\n",
    "    Result = []\n",
    "    tManager = TransactionManager.create(Data)\n",
    "    Candidates = tManager.initial_candidates()\n",
    "    ItemSupport = {}\n",
    "    for ItemSet in Candidates:\n",
    "        ll = list(ItemSet)[0]\n",
    "        ItemSupport[ll] = tManager.calc_support(ItemSet)\n",
    "    \n",
    "    PrevCandidates = Candidates\n",
    "    size = 1\n",
    "    \n",
    "    # Step-1\n",
    "    relations = set()\n",
    "    for ItemSet in Candidates:\n",
    "        support = tManager.calc_support(ItemSet)\n",
    "        if support < min_supp:\n",
    "            continue\n",
    "        candidate_set = frozenset(ItemSet)\n",
    "        relations.add(candidate_set)\n",
    "    size += 1\n",
    "    Candidates = create_next_candidates(relations, size)\n",
    "    \n",
    "    # Below code contains step-2 to 4\n",
    "    while Candidates:\n",
    "        relations = set()\n",
    "        for ItemSet in Candidates:\n",
    "            support = tManager.calc_support(ItemSet)\n",
    "            hconf = calc_hconf(ItemSet, ItemSupport, support)\n",
    "\n",
    "            # Prune A\n",
    "            Subsets = list(combinations(ItemSet, size-1)) \n",
    "            Flag = False\n",
    "            for sub in Subsets:\n",
    "                if frozenset(sub) not in PrevCandidates:\n",
    "                    Flag = True\n",
    "                    break\n",
    "            if Flag:\n",
    "                continue\n",
    "                    \n",
    "            # Prune B\n",
    "            # Need to implement\n",
    "            \n",
    "            # Prune C\n",
    "            if support < min_supp or hconf < min_hc:\n",
    "                continue\n",
    "            \n",
    "            candidate_set = frozenset(ItemSet)\n",
    "            relations.add(candidate_set)\n",
    "#             print(candidate_set)\n",
    "            Result.append(candidate_set)\n",
    "        size += 1\n",
    "        if size > (MaxEl-MinEl):\n",
    "            break\n",
    "        PrevCandidates = Candidates\n",
    "        Candidates = create_next_candidates(relations, size)\n",
    "    return Result"
   ]
  },
  {
   "cell_type": "code",
   "execution_count": 4,
   "metadata": {},
   "outputs": [
    {
     "name": "stdout",
     "output_type": "stream",
     "text": [
      "16469 0\n"
     ]
    }
   ],
   "source": [
    "Data = LoadData(\"retail.dat\")\n",
    "N = len(Data)\n",
    "MaxEl, MinEl = GetMax(Data)\n",
    "print(MaxEl, MinEl)"
   ]
  },
  {
   "cell_type": "code",
   "execution_count": null,
   "metadata": {
    "scrolled": true
   },
   "outputs": [
    {
     "data": {
      "application/vnd.jupyter.widget-view+json": {
       "model_id": "a225ee93effc444f859e8e1155380e22",
       "version_major": 2,
       "version_minor": 0
      },
      "text/plain": [
       "HBox(children=(IntProgress(value=0, max=5), HTML(value='')))"
      ]
     },
     "metadata": {},
     "output_type": "display_data"
    }
   ],
   "source": [
    "MinSupList = [0.01, 0.05, 0.1, 0.2, 0.3, 0.4, 0.5]\n",
    "MinHcList = [0.1, 0.2, 0.5, 0.7, 0.9]\n",
    "Results = []\n",
    "Times = []\n",
    "for min_hc in tqdm(MinHcList):\n",
    "    temp = []\n",
    "    temp_time = []\n",
    "    for min_supp in MinSupList:\n",
    "        start_time = time.time()\n",
    "        Result = HyperCliqueAlgo()\n",
    "        temp_time.append(time.time()-start_time)\n",
    "        temp.append(len(Result))\n",
    "    Results.append(temp)\n",
    "    Times.append(temp_time)\n",
    "print(Results)\n",
    "print(Times)"
   ]
  },
  {
   "cell_type": "code",
   "execution_count": null,
   "metadata": {},
   "outputs": [],
   "source": [
    "def HyperCliqueCountGraphs():\n",
    "    plt.figure()\n",
    "    for i in range(len(Results)):\n",
    "        plt.plot(MinSupList, Results[i], label=\"hconf {}\".format(str(MinHcList[i])))\n",
    "    plt.title('Number of patterns generated by HyperCliqueMiner')\n",
    "    plt.ylabel('HyperClique Count')\n",
    "    plt.xlabel('Support Threshold')\n",
    "    plt.legend()\n",
    "    plt.show()\n",
    "    \n",
    "def HyperCliqueTimeGraph():\n",
    "    plt.figure()\n",
    "    for i in range(len(Results)):\n",
    "        plt.plot(MinSupList, Times[i], label=\"hconf {}\".format(str(MinHcList[i])))\n",
    "    plt.title('The execution time of hyperclique miner')\n",
    "    plt.ylabel('Execution Time in Seconds')\n",
    "    plt.xlabel('Support Threshold')\n",
    "    plt.legend()\n",
    "    plt.show()\n",
    "    \n",
    "HyperCliqueCountGraphs()\n",
    "HyperCliqueTimeGraph()"
   ]
  },
  {
   "cell_type": "code",
   "execution_count": null,
   "metadata": {},
   "outputs": [],
   "source": []
  }
 ],
 "metadata": {
  "kernelspec": {
   "display_name": "Python 3",
   "language": "python",
   "name": "python3"
  },
  "language_info": {
   "codemirror_mode": {
    "name": "ipython",
    "version": 3
   },
   "file_extension": ".py",
   "mimetype": "text/x-python",
   "name": "python",
   "nbconvert_exporter": "python",
   "pygments_lexer": "ipython3",
   "version": "3.7.3"
  }
 },
 "nbformat": 4,
 "nbformat_minor": 2
}
