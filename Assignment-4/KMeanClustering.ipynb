{
 "cells": [
  {
   "cell_type": "markdown",
   "metadata": {},
   "source": [
    "### Kaustav Vats (2016048)\n",
    "### Topic- K-Mean Clustering"
   ]
  },
  {
   "cell_type": "code",
   "execution_count": 76,
   "metadata": {},
   "outputs": [],
   "source": [
    "import numpy as np\n",
    "import matplotlib.pyplot as plt\n",
    "from copy import deepcopy\n",
    "from tqdm import tqdm_notebook as tqdm\n",
    "from sklearn.preprocessing import normalize\n",
    "from sklearn.metrics import accuracy_score, precision_score, recall_score, f1_score\n",
    "from sklearn.metrics.pairwise import cosine_similarity\n",
    "from numpy.linalg import norm"
   ]
  },
  {
   "cell_type": "code",
   "execution_count": 118,
   "metadata": {},
   "outputs": [],
   "source": [
    "class Point:\n",
    "    def __init__(self, name, point_class):\n",
    "        self.Name = name\n",
    "        self.c = point_class\n",
    "        \n",
    "    def __str__(self):\n",
    "        return self.c + \" \" + self.Name\n",
    "    \n",
    "    def getName(self):\n",
    "        return self.Name\n",
    "    def getClass(self):\n",
    "        return self.c\n",
    "    \n",
    "def load_data(filename, point_class):\n",
    "    data = []\n",
    "    temp = []\n",
    "    file = open(filename, 'r')\n",
    "    for line in file:\n",
    "        line = line.strip().split(\" \")\n",
    "        val = list(map(float, line[1:]))\n",
    "        data.append((line[0], point_class, np.asarray(val)))\n",
    "        temp.append(val)\n",
    "    temp = np.asarray(temp)\n",
    "#     temp = Normalize(temp)\n",
    "    mean = np.mean(temp, axis=0)\n",
    "    return data, mean\n",
    "\n",
    "def pre_process(data):\n",
    "    X = np.zeros((len(data), data[0][2].shape[0]))\n",
    "    Y = []\n",
    "    for i in range(len(data)):\n",
    "        X[i, :] = data[i][2][:]\n",
    "        Y.append(Point(data[i][0], data[i][1]))\n",
    "    return X, Y\n",
    "\n",
    "def Normalize(x):\n",
    "    x = normalize(x, axis=1, norm='l2')\n",
    "    return x\n",
    "\n",
    "def getEuclideanDistance(center, x):\n",
    "    t = center - x\n",
    "    t = np.square(t)\n",
    "    t = np.sum(t, axis=1)\n",
    "    t = np.sqrt(t)\n",
    "    return t\n",
    "\n",
    "def getManhattanDistance(center, x):\n",
    "    t = center - x\n",
    "    t = np.absolute(t)\n",
    "    t = np.sum(t, axis=1)\n",
    "    return t\n",
    "\n",
    "def UpdateMean(k, label, x, Centroids):\n",
    "    centers = []\n",
    "#     print(label)\n",
    "    for i in range(k):\n",
    "        centers.append([])\n",
    "    \n",
    "    for i in range(label.shape[0]):\n",
    "        centers[label[i]].append(x[i, :])\n",
    "    \n",
    "    for i in range(k):\n",
    "        if len(centers[i]) > 0:\n",
    "            centers[i] = np.vstack(tuple(centers[i]))\n",
    "            centers[i] = np.mean(centers[i], axis=0)\n",
    "            centers[i] = np.reshape(centers[i], (1, centers[i].shape[0]))\n",
    "        else:\n",
    "            centers[i] = np.zeros((1, x.shape[1]))\n",
    "    return centers\n",
    "\n",
    "def StoppingCondition(C, P):\n",
    "    for i in range(len(C)):\n",
    "        if not np.allclose(C[i], P[i]):\n",
    "            return True\n",
    "    return False\n",
    "\n",
    "def getLabelsCosineSim(c, x):\n",
    "    Label = np.zeros(x.shape[0], dtype=np.int64)\n",
    "    Similarities = []\n",
    "    for i in range(len(c)):\n",
    "#         csv = np.dot(c, x[i, :]){\n",
    "#         print(csv.shape)\n",
    "#         csv /= (norm(c)*norm(x[i, :]))\n",
    "#         print(\"c:\", c[i].shape)\n",
    "        csv = cosine_similarity(c[i], x)\n",
    "#         print(csv.shape)\n",
    "        Similarities.append(csv)\n",
    "#         Label[i] = np.argmax(cosine_similarity(c, np.reshape(x[i, :], (1, x.shape[1]))), axis=0)\n",
    "    Similarities = np.vstack(tuple(Similarities))\n",
    "    Label = np.argmax(Similarities, axis=0)\n",
    "#     print(\"Label\", Label.shape)\n",
    "    return Label\n",
    "\n",
    "def KMean(K, X, mini=-3.3685, maxi=1.9523, max_iter=1000):\n",
    "    Label = np.zeros(X.shape[0])\n",
    "    Label.fill(-1)\n",
    "    Centroids = []\n",
    "    for i in range(K):\n",
    "        Centroids.append(np.random.uniform(low=mini, high=maxi, size=(1, X.shape[1])))\n",
    "    Prev = deepcopy(Centroids)\n",
    "    \n",
    "    # Stopping Conditions\n",
    "    for i in tqdm(range(max_iter)):\n",
    "#     while(StoppingCondition(Centroids, Prev)):\n",
    "#         D = np.zeros((K, X.shape[0]))\n",
    "#         for c in range(K):\n",
    "#             D[c, :] = getManhattanDistance(Centroids[c], X)\n",
    "#         Label = np.argmin(D, axis=0)\n",
    "        Label = getLabelsCosineSim(Centroids, X)\n",
    "        Centroids = UpdateMean(K, Label, X, Centroids)\n",
    "        if not StoppingCondition(Centroids, Prev):\n",
    "            break\n",
    "    return Centroids, Label\n",
    "\n",
    "def updateAndPrepLabels(y, assignedLabels, labels):\n",
    "    y_train = np.zeros(len(y))\n",
    "    y_test = np.zeros(len(y))\n",
    "    for i in range(len(y)):\n",
    "        y_train[i] = y[i].getClass()\n",
    "        y_test[i] = assignedLabels[Labels[i]]\n",
    "    return y_train, y_test"
   ]
  },
  {
   "cell_type": "code",
   "execution_count": 119,
   "metadata": {
    "scrolled": true
   },
   "outputs": [
    {
     "name": "stdout",
     "output_type": "stream",
     "text": [
      "Data Points: 329\n",
      "Vector Length: (300,)\n"
     ]
    }
   ],
   "source": [
    "Classes = ['animals', 'countries', 'fruits', 'veggies']\n",
    "dataPath = 'clustering-data/'\n",
    "Data = []\n",
    "GroundTruth = []\n",
    "for i in range(len(Classes)):\n",
    "    d, m = load_data(dataPath+Classes[i], i)\n",
    "    Data += d\n",
    "    GroundTruth.append(np.reshape(m, (1, m.shape[0])))\n",
    "print(\"Data Points: {}\".format(len(Data)))\n",
    "print(\"Vector Length: {}\".format(Data[0][2].shape))"
   ]
  },
  {
   "cell_type": "code",
   "execution_count": 120,
   "metadata": {},
   "outputs": [
    {
     "name": "stdout",
     "output_type": "stream",
     "text": [
      "(329, 300)\n",
      "Min Val: -3.3685, Max Val: 1.9523\n"
     ]
    }
   ],
   "source": [
    "X, Y = pre_process(Data)\n",
    "# X = Normalize(X)\n",
    "print(X.shape)\n",
    "print(\"Min Val: {}, Max Val: {}\".format(np.amin(X), np.amax(X)))\n",
    "Mini = np.amin(X)\n",
    "Maxi = np.amax(X)"
   ]
  },
  {
   "cell_type": "code",
   "execution_count": 125,
   "metadata": {
    "scrolled": true
   },
   "outputs": [
    {
     "data": {
      "application/vnd.jupyter.widget-view+json": {
       "model_id": "b6e5eb5040794d14b6d0ecf4c0398093",
       "version_major": 2,
       "version_minor": 0
      },
      "text/plain": [
       "HBox(children=(IntProgress(value=0, max=1000), HTML(value='')))"
      ]
     },
     "metadata": {},
     "output_type": "display_data"
    },
    {
     "name": "stdout",
     "output_type": "stream",
     "text": [
      "1\n"
     ]
    },
    {
     "data": {
      "application/vnd.jupyter.widget-view+json": {
       "model_id": "fe669904f9a84cbbbfff442d6c0ce925",
       "version_major": 2,
       "version_minor": 0
      },
      "text/plain": [
       "HBox(children=(IntProgress(value=0, max=1000), HTML(value='')))"
      ]
     },
     "metadata": {},
     "output_type": "display_data"
    },
    {
     "name": "stdout",
     "output_type": "stream",
     "text": [
      "2\n"
     ]
    },
    {
     "data": {
      "application/vnd.jupyter.widget-view+json": {
       "model_id": "0e578822f2aa4f0cb1b646e2c6a5687e",
       "version_major": 2,
       "version_minor": 0
      },
      "text/plain": [
       "HBox(children=(IntProgress(value=0, max=1000), HTML(value='')))"
      ]
     },
     "metadata": {},
     "output_type": "display_data"
    },
    {
     "name": "stdout",
     "output_type": "stream",
     "text": [
      "3\n"
     ]
    },
    {
     "data": {
      "application/vnd.jupyter.widget-view+json": {
       "model_id": "0b55b3df75df4eaeb41ee12be5bd6dc3",
       "version_major": 2,
       "version_minor": 0
      },
      "text/plain": [
       "HBox(children=(IntProgress(value=0, max=1000), HTML(value='')))"
      ]
     },
     "metadata": {},
     "output_type": "display_data"
    },
    {
     "name": "stdout",
     "output_type": "stream",
     "text": [
      "4\n"
     ]
    },
    {
     "data": {
      "application/vnd.jupyter.widget-view+json": {
       "model_id": "b16e7c8b479f423a92ede87337e799f9",
       "version_major": 2,
       "version_minor": 0
      },
      "text/plain": [
       "HBox(children=(IntProgress(value=0, max=1000), HTML(value='')))"
      ]
     },
     "metadata": {},
     "output_type": "display_data"
    },
    {
     "name": "stdout",
     "output_type": "stream",
     "text": [
      "5\n"
     ]
    },
    {
     "data": {
      "application/vnd.jupyter.widget-view+json": {
       "model_id": "3c9304adbb394dc1a437fd2f2ba2efcd",
       "version_major": 2,
       "version_minor": 0
      },
      "text/plain": [
       "HBox(children=(IntProgress(value=0, max=1000), HTML(value='')))"
      ]
     },
     "metadata": {},
     "output_type": "display_data"
    },
    {
     "name": "stdout",
     "output_type": "stream",
     "text": [
      "6\n"
     ]
    },
    {
     "data": {
      "application/vnd.jupyter.widget-view+json": {
       "model_id": "da0cbcc88e8542a7a435ef8ee96d50eb",
       "version_major": 2,
       "version_minor": 0
      },
      "text/plain": [
       "HBox(children=(IntProgress(value=0, max=1000), HTML(value='')))"
      ]
     },
     "metadata": {},
     "output_type": "display_data"
    },
    {
     "name": "stdout",
     "output_type": "stream",
     "text": [
      "7\n"
     ]
    },
    {
     "data": {
      "application/vnd.jupyter.widget-view+json": {
       "model_id": "cb9bcdd7f1064de8ac13c06642f0b211",
       "version_major": 2,
       "version_minor": 0
      },
      "text/plain": [
       "HBox(children=(IntProgress(value=0, max=1000), HTML(value='')))"
      ]
     },
     "metadata": {},
     "output_type": "display_data"
    },
    {
     "name": "stdout",
     "output_type": "stream",
     "text": [
      "8\n"
     ]
    },
    {
     "data": {
      "application/vnd.jupyter.widget-view+json": {
       "model_id": "c3e3582903984901bfaecf60d61eb702",
       "version_major": 2,
       "version_minor": 0
      },
      "text/plain": [
       "HBox(children=(IntProgress(value=0, max=1000), HTML(value='')))"
      ]
     },
     "metadata": {},
     "output_type": "display_data"
    },
    {
     "name": "stdout",
     "output_type": "stream",
     "text": [
      "9\n"
     ]
    },
    {
     "data": {
      "application/vnd.jupyter.widget-view+json": {
       "model_id": "36d2d714faa0452bb8973dbf694cef02",
       "version_major": 2,
       "version_minor": 0
      },
      "text/plain": [
       "HBox(children=(IntProgress(value=0, max=1000), HTML(value='')))"
      ]
     },
     "metadata": {},
     "output_type": "display_data"
    },
    {
     "name": "stdout",
     "output_type": "stream",
     "text": [
      "10\n",
      "Done!\n"
     ]
    }
   ],
   "source": [
    "Y_Trues = []\n",
    "Y_Preds = []\n",
    "for i in range(1,11):\n",
    "    K = i\n",
    "    Centroids, Labels = KMean(K, X, mini=Mini, maxi=Maxi, max_iter=1000)\n",
    "    PredictedLabels = np.zeros((K, 4))\n",
    "    Centroids = np.vstack(tuple(Centroids))\n",
    "    \n",
    "#     for j in range(4):\n",
    "#         PredictedLabels[:, j] = getManhattanDistance(GroundTruth[j], Centroids)[:]\n",
    "#     AssignedLabels = np.argmin(PredictedLabels, axis=1)\n",
    "#     print(AssignedLabels)\n",
    "    AssignedLabels = getLabelsCosineSim(GroundTruth, Centroids)\n",
    "    print(i)\n",
    "    Y_True, Y_Pred = updateAndPrepLabels(Y, AssignedLabels, Labels)    \n",
    "    Y_Trues.append(Y_True)\n",
    "    Y_Preds.append(Y_Pred)\n",
    "    \n",
    "print(\"Done!\")"
   ]
  },
  {
   "cell_type": "code",
   "execution_count": 132,
   "metadata": {},
   "outputs": [],
   "source": [
    "Acc = []\n",
    "Prec = []\n",
    "Recall = []\n",
    "F1Score = []\n",
    "for i in range(10):\n",
    "    Acc.append(accuracy_score(Y_Trues[i], Y_Preds[i])*100)\n",
    "    avg = 'micro'\n",
    "    Prec.append(precision_score(Y_Trues[i], Y_Preds[i], average=avg))\n",
    "    Recall.append(recall_score(Y_Trues[i], Y_Preds[i], average=avg))\n",
    "    F1Score.append(f1_score(Y_Trues[i], Y_Preds[i], average=avg))"
   ]
  },
  {
   "cell_type": "code",
   "execution_count": 133,
   "metadata": {},
   "outputs": [
    {
     "data": {
      "image/png": "[encoded data removed]",
      "text/plain": [
       "<Figure size 432x288 with 1 Axes>"
      ]
     },
     "metadata": {
      "needs_background": "light"
     },
     "output_type": "display_data"
    }
   ],
   "source": [
    "xAxis = np.arange(1, 11)\n",
    "plt.figure()\n",
    "plt.plot(xAxis, Acc, label='Accuracy')\n",
    "plt.legend()\n",
    "plt.xlabel('K Clusters')\n",
    "plt.ylabel('Accuracy in %')\n",
    "plt.title(\"Accuracy vs K Clusters\")\n",
    "plt.show()"
   ]
  },
  {
   "cell_type": "code",
   "execution_count": 134,
   "metadata": {},
   "outputs": [
    {
     "data": {
      "image/png": "[encoded data removed]",
      "text/plain": [
       "<Figure size 432x288 with 1 Axes>"
      ]
     },
     "metadata": {
      "needs_background": "light"
     },
     "output_type": "display_data"
    }
   ],
   "source": [
    "plt.figure()\n",
    "plt.plot(xAxis, Prec, label='Precision')\n",
    "plt.plot(xAxis, Recall, label='Recall')\n",
    "plt.plot(xAxis, F1Score, label='F1 Score')\n",
    "plt.legend()\n",
    "plt.xlabel('K Clusters')\n",
    "plt.ylabel('Scores in %')\n",
    "plt.title(\"Scores vs K Clusters\")\n",
    "plt.show()"
   ]
  },
  {
   "cell_type": "code",
   "execution_count": 84,
   "metadata": {},
   "outputs": [
    {
     "name": "stdout",
     "output_type": "stream",
     "text": [
      "Accuracy: 92.40121580547113\n",
      "\n",
      "average=macro\n",
      "Precision: 0.910392156862745\n",
      "Recall: 0.8954863639608767\n",
      "F1 Score: 0.8971992837001936\n",
      "\n",
      "average=micro\n",
      "Precision: 0.9240121580547113\n",
      "Recall: 0.9240121580547113\n",
      "F1 Score: 0.9240121580547113\n",
      "\n",
      "average=weighted\n",
      "Precision: 0.9363347040944038\n",
      "Recall: 0.9240121580547113\n",
      "F1 Score: 0.9261726924316442\n",
      "\n",
      "average=None\n",
      "Precision: [1.         1.         0.72       0.92156863]\n",
      "Recall: [0.88       0.98757764 0.93103448 0.78333333]\n",
      "F1 Score: [0.93617021 0.99375    0.81203008 0.84684685]\n"
     ]
    }
   ],
   "source": [
    "print(\"Accuracy: {}\".format(accuracy_score(Y_True, Y_Pred)*100))\n",
    "\n",
    "Avg = ['macro', 'micro', 'weighted', None]\n",
    "for avg in Avg:\n",
    "    print(\"\\naverage={}\".format(avg))\n",
    "    print(\"Precision: {}\".format(precision_score(Y_True, Y_Pred, average=avg)))\n",
    "    print(\"Recall: {}\".format(recall_score(Y_True, Y_Pred, average=avg)))\n",
    "    print(\"F1 Score: {}\".format(f1_score(Y_True, Y_Pred, average=avg)))"
   ]
  },
  {
   "cell_type": "code",
   "execution_count": null,
   "metadata": {},
   "outputs": [],
   "source": []
  },
  {
   "cell_type": "code",
   "execution_count": null,
   "metadata": {},
   "outputs": [],
   "source": []
  }
 ],
 "metadata": {
  "kernelspec": {
   "display_name": "Python 3",
   "language": "python",
   "name": "python3"
  },
  "language_info": {
   "codemirror_mode": {
    "name": "ipython",
    "version": 3
   },
   "file_extension": ".py",
   "mimetype": "text/x-python",
   "name": "python",
   "nbconvert_exporter": "python",
   "pygments_lexer": "ipython3",
   "version": "3.7.3"
  }
 },
 "nbformat": 4,
 "nbformat_minor": 2
}
